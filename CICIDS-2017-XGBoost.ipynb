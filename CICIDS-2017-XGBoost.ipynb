{
 "cells": [
  {
   "cell_type": "markdown",
   "metadata": {},
   "source": [
    "# XGBoost with CICIDS"
   ]
  },
  {
   "cell_type": "markdown",
   "metadata": {},
   "source": [
    "This notebook provides comparsion stats.  \n",
    "The CICIDS2017 version used is [from the University of New Brunswick, Canada](http://www.unb.ca/cic/datasets/ids-2017.html)."
   ]
  },
  {
   "cell_type": "code",
   "execution_count": 1,
   "metadata": {
    "ExecuteTime": {
     "end_time": "2018-07-31T15:54:55.694834Z",
     "start_time": "2018-07-31T15:54:55.412786Z"
    }
   },
   "outputs": [],
   "source": [
    "import json\n",
    "import os\n",
    "import numpy as np\n",
    "import pandas as pd\n",
    "pd.set_option('display.max_columns', None)"
   ]
  },
  {
   "cell_type": "markdown",
   "metadata": {},
   "source": [
    "# Data loading and prep"
   ]
  },
  {
   "cell_type": "code",
   "execution_count": 2,
   "metadata": {
    "ExecuteTime": {
     "end_time": "2018-07-31T15:54:55.699879Z",
     "start_time": "2018-07-31T15:54:55.695832Z"
    }
   },
   "outputs": [],
   "source": [
    "def load_df(filename):\n",
    "    filepath = os.path.join('CICIDS2017', filename+'.pkl')\n",
    "    return pd.read_pickle(filepath)"
   ]
  },
  {
   "cell_type": "code",
   "execution_count": 3,
   "metadata": {
    "ExecuteTime": {
     "end_time": "2018-07-31T15:54:58.024676Z",
     "start_time": "2018-07-31T15:54:55.700876Z"
    }
   },
   "outputs": [],
   "source": [
    "cic_train_data = load_df('cic_train_data')\n",
    "cic_test_data = load_df('cic_test_data')\n",
    "cic_train_labels = load_df('cic_train_labels')\n",
    "cic_test_labels = load_df('cic_test_labels')"
   ]
  },
  {
   "cell_type": "markdown",
   "metadata": {},
   "source": [
    "We only need 6 features, so we filter accordingly.   \n",
    "The mapping is as follows:  \n",
    "\n",
    "| NSL-KDD field | CICIDS2017 field |\n",
    "|---------------|---------------------|\n",
    "| duration | flow_duration |\n",
    "| protocol_type | protocol |\n",
    "| src_bytes | total_fwd_packets |\n",
    "| dst_bytes | total_backward_packets |\n",
    "| count | flow_packets_per_s |\n",
    "| srv_count | destination_port |\n"
   ]
  },
  {
   "cell_type": "code",
   "execution_count": 4,
   "metadata": {
    "ExecuteTime": {
     "end_time": "2018-07-31T15:54:58.295482Z",
     "start_time": "2018-07-31T15:54:58.026671Z"
    }
   },
   "outputs": [],
   "source": [
    "fields = ['flow_duration', 'protocol', 'total_fwd_packets', 'total_backward_packets','flow_packets_per_s','destination_port']\n",
    "\n",
    "cic_train_data = cic_train_data.filter(fields, axis=1) \n",
    "cic_test_data = cic_test_data.filter(fields, axis=1)"
   ]
  },
  {
   "cell_type": "markdown",
   "metadata": {},
   "source": [
    "## Label Translation"
   ]
  },
  {
   "cell_type": "markdown",
   "metadata": {},
   "source": [
    "As we are doing binary classification, we only need to know if the entry is normal/benign (*0*) or malicious (*1*).  \n",
    "For this, we load the Tokenizer word index to get the benign label representation and then define a function to transfor our labels."
   ]
  },
  {
   "cell_type": "code",
   "execution_count": 5,
   "metadata": {
    "ExecuteTime": {
     "end_time": "2018-07-31T15:54:58.306753Z",
     "start_time": "2018-07-31T15:54:58.296480Z"
    }
   },
   "outputs": [
    {
     "name": "stdout",
     "output_type": "stream",
     "text": [
      "{'benign': 1, 'ftppatator': 2, 'sshpatator': 3, 'dosslowloris': 4, 'dosslowhttptest': 5, 'doshulk': 6, 'dosgoldeneye': 7, 'heartbleed': 8, 'bruteforce': 9, 'xss': 10, 'sqlinjection': 11, 'infiltration': 12, 'bot': 13, 'portscan': 14, 'ddos': 15}\n"
     ]
    }
   ],
   "source": [
    "with open(os.path.join('CICIDS2017','cic_label_wordindex.json')) as json_in:\n",
    "    data = json.load(json_in)\n",
    "    print(data)\n",
    "    normal_index = data['benign']"
   ]
  },
  {
   "cell_type": "code",
   "execution_count": 6,
   "metadata": {
    "ExecuteTime": {
     "end_time": "2018-07-31T15:54:58.317624Z",
     "start_time": "2018-07-31T15:54:58.308145Z"
    }
   },
   "outputs": [],
   "source": [
    "def f(x):\n",
    "    return 0 if x == normal_index else 1\n",
    "f = np.vectorize(f)"
   ]
  },
  {
   "cell_type": "code",
   "execution_count": 7,
   "metadata": {
    "ExecuteTime": {
     "end_time": "2018-07-31T15:54:58.339347Z",
     "start_time": "2018-07-31T15:54:58.319612Z"
    }
   },
   "outputs": [
    {
     "data": {
      "text/html": [
       "<div>\n",
       "<style scoped>\n",
       "    .dataframe tbody tr th:only-of-type {\n",
       "        vertical-align: middle;\n",
       "    }\n",
       "\n",
       "    .dataframe tbody tr th {\n",
       "        vertical-align: top;\n",
       "    }\n",
       "\n",
       "    .dataframe thead th {\n",
       "        text-align: right;\n",
       "    }\n",
       "</style>\n",
       "<table border=\"1\" class=\"dataframe\">\n",
       "  <thead>\n",
       "    <tr style=\"text-align: right;\">\n",
       "      <th></th>\n",
       "      <th>label</th>\n",
       "      <th>label_encoded</th>\n",
       "    </tr>\n",
       "  </thead>\n",
       "  <tbody>\n",
       "    <tr>\n",
       "      <th>0</th>\n",
       "      <td>BENIGN</td>\n",
       "      <td>1</td>\n",
       "    </tr>\n",
       "    <tr>\n",
       "      <th>1</th>\n",
       "      <td>BENIGN</td>\n",
       "      <td>1</td>\n",
       "    </tr>\n",
       "    <tr>\n",
       "      <th>2</th>\n",
       "      <td>BENIGN</td>\n",
       "      <td>1</td>\n",
       "    </tr>\n",
       "    <tr>\n",
       "      <th>3</th>\n",
       "      <td>BENIGN</td>\n",
       "      <td>1</td>\n",
       "    </tr>\n",
       "    <tr>\n",
       "      <th>4</th>\n",
       "      <td>BENIGN</td>\n",
       "      <td>1</td>\n",
       "    </tr>\n",
       "  </tbody>\n",
       "</table>\n",
       "</div>"
      ],
      "text/plain": [
       "    label  label_encoded\n",
       "0  BENIGN              1\n",
       "1  BENIGN              1\n",
       "2  BENIGN              1\n",
       "3  BENIGN              1\n",
       "4  BENIGN              1"
      ]
     },
     "execution_count": 7,
     "metadata": {},
     "output_type": "execute_result"
    }
   ],
   "source": [
    "cic_train_labels.head()"
   ]
  },
  {
   "cell_type": "code",
   "execution_count": 8,
   "metadata": {
    "ExecuteTime": {
     "end_time": "2018-07-31T15:54:58.656472Z",
     "start_time": "2018-07-31T15:54:58.340343Z"
    }
   },
   "outputs": [],
   "source": [
    "cic_train_labels = f(cic_train_labels['label_encoded'].values)\n",
    "cic_test_labels = f(cic_test_labels['label_encoded'].values)"
   ]
  },
  {
   "cell_type": "code",
   "execution_count": 9,
   "metadata": {
    "ExecuteTime": {
     "end_time": "2018-07-31T15:54:58.663479Z",
     "start_time": "2018-07-31T15:54:58.657507Z"
    }
   },
   "outputs": [
    {
     "data": {
      "text/plain": [
       "array([0, 0, 0, 0, 0])"
      ]
     },
     "execution_count": 9,
     "metadata": {},
     "output_type": "execute_result"
    }
   ],
   "source": [
    "cic_train_labels[:5]"
   ]
  },
  {
   "cell_type": "markdown",
   "metadata": {},
   "source": [
    "## Building and training the model"
   ]
  },
  {
   "cell_type": "code",
   "execution_count": 10,
   "metadata": {},
   "outputs": [
    {
     "name": "stdout",
     "output_type": "stream",
     "text": [
      "Training Set Size: 1839982\n",
      "Training Label Size: 1839982\n",
      "Test Set Size: 990761\n",
      "Test Label Size: 990761\n"
     ]
    }
   ],
   "source": [
    "print(\"Training Set Size:\",len(cic_train_data))\n",
    "print(\"Training Label Size:\",len(cic_train_labels))\n",
    "print(\"Test Set Size:\",len(cic_test_data))\n",
    "print(\"Test Label Size:\",len(cic_test_labels))"
   ]
  },
  {
   "cell_type": "code",
   "execution_count": 11,
   "metadata": {
    "ExecuteTime": {
     "end_time": "2018-07-31T15:54:58.747505Z",
     "start_time": "2018-07-31T15:54:58.664477Z"
    },
    "scrolled": true
   },
   "outputs": [
    {
     "data": {
      "text/plain": [
       "XGBClassifier(base_score=0.5, booster='gbtree', colsample_bylevel=1,\n",
       "       colsample_bytree=1, gamma=0, learning_rate=0.1, max_delta_step=0,\n",
       "       max_depth=3, min_child_weight=1, missing=None, n_estimators=100,\n",
       "       n_jobs=-1, nthread=None, objective='binary:logistic',\n",
       "       random_state=0, reg_alpha=0, reg_lambda=1, scale_pos_weight=1,\n",
       "       seed=None, silent=True, subsample=1)"
      ]
     },
     "execution_count": 11,
     "metadata": {},
     "output_type": "execute_result"
    }
   ],
   "source": [
    "from xgboost import XGBClassifier\n",
    "\n",
    "xgb = XGBClassifier(\n",
    "    n_estimators=100,\n",
    "    n_jobs=-1,\n",
    "    random_state=0\n",
    ")\n",
    "\n",
    "xgb.fit(cic_train_data, cic_train_labels)"
   ]
  },
  {
   "cell_type": "code",
   "execution_count": 12,
   "metadata": {
    "ExecuteTime": {
     "end_time": "2018-07-31T15:54:58.747505Z",
     "start_time": "2018-07-31T15:54:55.440Z"
    }
   },
   "outputs": [
    {
     "name": "stderr",
     "output_type": "stream",
     "text": [
      "/home/matzilla/Entwicklung/Master_IPython/venv/lib/python3.6/site-packages/sklearn/preprocessing/label.py:151: DeprecationWarning: The truth value of an empty array is ambiguous. Returning False, but in future this will result in an error. Use `array.size > 0` to check that an array is not empty.\n",
      "  if diff:\n"
     ]
    }
   ],
   "source": [
    "from sklearn.metrics import accuracy_score\n",
    "\n",
    "cic_test_predictions = xgb.predict(cic_test_data)\n",
    "predicted = [round(value) for value in cic_test_predictions]\n",
    "\n",
    "accuracy = accuracy_score(cic_test_labels, predicted)"
   ]
  },
  {
   "cell_type": "code",
   "execution_count": 13,
   "metadata": {
    "ExecuteTime": {
     "end_time": "2018-07-31T15:54:58.749500Z",
     "start_time": "2018-07-31T15:54:55.444Z"
    }
   },
   "outputs": [
    {
     "name": "stdout",
     "output_type": "stream",
     "text": [
      "Mean accuarcy score: 0.795\n"
     ]
    }
   ],
   "source": [
    "print(\"Mean accuarcy score: {0:1.3f}\".format(accuracy))"
   ]
  }
 ],
 "metadata": {
  "kernelspec": {
   "display_name": "Python 3",
   "language": "python",
   "name": "python3"
  },
  "language_info": {
   "codemirror_mode": {
    "name": "ipython",
    "version": 3
   },
   "file_extension": ".py",
   "mimetype": "text/x-python",
   "name": "python",
   "nbconvert_exporter": "python",
   "pygments_lexer": "ipython3",
   "version": "3.6.6"
  }
 },
 "nbformat": 4,
 "nbformat_minor": 2
}
