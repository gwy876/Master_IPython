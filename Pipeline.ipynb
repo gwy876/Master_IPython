{
 "cells": [
  {
   "cell_type": "markdown",
   "metadata": {},
   "source": [
    "## Überlegungen zur Verarbeitungspipeline"
   ]
  },
  {
   "cell_type": "markdown",
   "metadata": {},
   "source": [
    "Momentan erfolgt die Trennung von Trainings- und Testdatensätzen fest.  \n",
    "Es wäre allerdings angebracht, auf eine k-Fold Crossvalidation umzubauen.  \n",
    "Für eine solche sollte man aber das Normalisieren und Skalieren nicht auf den Gesamtdaten durchführen.  \n",
    "Daher die Idee, den Datensatz fertig zu encoden (wie bisher auch) und das Label Encoding bereits zu machen.  \n",
    "Die Normalisierung wird dann allerdings erst direkt vor dem Training durchgeführt, also:\n",
    "\n",
    "1. CSV laden -> Labels encoden -> in Pickle schreiben  \n",
    "2. Modell definieren (z.B. SDN-DNN)\n",
    "3. Pickle laden  \n",
    "    3.1 k-Fold Split machen und *jeweils* auf Train Set Normalisieren, dann auf Test Set anwenden  \n",
    "    3.2 Modell fitten (z.B. 10-Fold: insgesamt 10x trainieren)\n",
    "4. Modell als h5 (Keras) oder Pickle (sklearn) speichern\n",
    "5. Gespeichertes Modell laden und ein ungesehenes Testdatenset predicten  \n",
    "    5.1 Prediction als Konfusionsmatrix, ROC, F1-/Fß-Score festhalten (serialisieren! JSON oder so)"
   ]
  },
  {
   "cell_type": "markdown",
   "metadata": {},
   "source": [
    "![Verarbeitungspipeline](Pipeline.png)"
   ]
  },
  {
   "cell_type": "markdown",
   "metadata": {},
   "source": [
    "Wichtig ist, dass bei einem 10-Fold der (bspw) MinMaxScaler jedes Mal auf die Trainingsdaten neu angelernt und auf die Testdaten angewendet wird. Bei einer 10-Fold Validation wird des Weiteren dann auch 10x trainiert."
   ]
  }
 ],
 "metadata": {
  "kernelspec": {
   "display_name": "Python 3",
   "language": "python",
   "name": "python3"
  },
  "language_info": {
   "codemirror_mode": {
    "name": "ipython",
    "version": 3
   },
   "file_extension": ".py",
   "mimetype": "text/x-python",
   "name": "python",
   "nbconvert_exporter": "python",
   "pygments_lexer": "ipython3",
   "version": "3.6.6"
  }
 },
 "nbformat": 4,
 "nbformat_minor": 2
}
