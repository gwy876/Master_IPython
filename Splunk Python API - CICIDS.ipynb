{
 "cells": [
  {
   "cell_type": "markdown",
   "metadata": {},
   "source": [
    "To run these examples, the [Splunk Python SDK](https://github.com/splunk/splunk-sdk-python) needs to be present in your Python (venv) installation:  \n",
    "`pip install splunk-sdk`"
   ]
  },
  {
   "cell_type": "markdown",
   "metadata": {},
   "source": [
    "## Dataset structure"
   ]
  },
  {
   "cell_type": "markdown",
   "metadata": {},
   "source": [
    "This is an example of how to work with the imported [CICIDS2017](http://www.unb.ca/cic/datasets/ids-2017.html) dataset through the Splunk Python SDK.  \n",
    "The dataset has been imported as a CSV through the Web Interface (*Settings* -> *Add Data* -> *Upload*).  \n",
    "It has been saved to the index *CICIDS17* to seperate it from production netflows.  \n",
    "\n",
    "Ever entry in the dataset is structured like this:  \n",
    "\n",
    "| Field Index | Field Name |\n",
    "-------------- |---------------- |\n",
    "| 0 | Flow ID |\n",
    "| 1 | Source IP |\n",
    "| 2 | Source Port |\n",
    "| 3 | Destination IP |\n",
    "| 4 | Destination Port |\n",
    "| 5 | Protocol |\n",
    "| 6 | Timestamp |\n",
    "| 7 | Flow Duration |\n",
    "| 8 | Total Fwd Packets |\n",
    "| 9 | Total Backward Packets |\n",
    "| 10 | Total Length of Fwd Packets |\n",
    "| 11 | Total Length of Bwd Packets |\n",
    "| 12 | Fwd Packet Length Max |\n",
    "| 13 | Fwd Packet Length Min |\n",
    "| 14 | Fwd Packet Length Mean |\n",
    "| 15 | Fwd Packet Length Std |\n",
    "| 16 | Bwd Packet Length Max |\n",
    "| 17 | Bwd Packet Length Min |\n",
    "| 18 | Bwd Packet Length Mean |\n",
    "| 19 | Bwd Packet Length Std |\n",
    "| 20 | Flow Bytes/s |\n",
    "| 21 | Flow Packets/s |\n",
    "| 22 | Flow IAT Mean |\n",
    "| 23 | Flow IAT Std |\n",
    "| 24 | Flow IAT Max |\n",
    "| 25 | Flow IAT Min |\n",
    "| 26 | Fwd IAT Total |\n",
    "| 27 | Fwd IAT Mean |\n",
    "| 28 | Fwd IAT Std |\n",
    "| 29 | Fwd IAT Max |\n",
    "| 30 | Fwd IAT Min |\n",
    "| 31 | Bwd IAT Total |\n",
    "| 32 | Bwd IAT Mean |\n",
    "| 33 | Bwd IAT Std |\n",
    "| 34 | Bwd IAT Max |\n",
    "| 35 | Bwd IAT Min |\n",
    "| 36 | Fwd PSH Flags |\n",
    "| 37 | Bwd PSH Flags |\n",
    "| 38 | Fwd URG Flags |\n",
    "| 39 | Bwd URG Flags |\n",
    "| 40 | Fwd Header Length |\n",
    "| 41 | Bwd Header Length |\n",
    "| 42 | Fwd Packets/s |\n",
    "| 43 | Bwd Packets/s |\n",
    "| 44 | Min Packet Length |\n",
    "| 45 | Max Packet Length |\n",
    "| 46 | Packet Length Mean |\n",
    "| 47 | Packet Length Std |\n",
    "| 48 | Packet Length Variance |\n",
    "| 49 | FIN Flag Count |\n",
    "| 50 | SYN Flag Count |\n",
    "| 51 | RST Flag Count |\n",
    "| 52 | PSH Flag Count |\n",
    "| 53 | ACK Flag Count |\n",
    "| 54 | URG Flag Count |\n",
    "| 55 | CWE Flag Count |\n",
    "| 56 | ECE Flag Count |\n",
    "| 57 | Down/Up Ratio |\n",
    "| 58 | Average Packet Size |\n",
    "| 59 | Avg Fwd Segment Size |\n",
    "| 60 | Avg Bwd Segment Size |\n",
    "| 61 | Fwd Header Length |\n",
    "| 62 | Fwd Avg Bytes/Bulk |\n",
    "| 63 | Fwd Avg Packets/Bulk |\n",
    "| 64 | Fwd Avg Bulk Rate |\n",
    "| 65 | Bwd Avg Bytes/Bulk |\n",
    "| 66 | Bwd Avg Packets/Bulk |\n",
    "| 67 | Bwd Avg Bulk Rate |\n",
    "| 68 | Subflow Fwd Packets |\n",
    "| 69 | Subflow Fwd Bytes |\n",
    "| 70 | Subflow Bwd Packets |\n",
    "| 71 | Subflow Bwd Bytes |\n",
    "| 72 | Init_Win_bytes_forward |\n",
    "| 73 | Init_Win_bytes_backward |\n",
    "| 74 | act_data_pkt_fwd |\n",
    "| 75 | min_seg_size_forward |\n",
    "| 76 | Active Mean |\n",
    "| 77 | Active Std |\n",
    "| 78 | Active Max |\n",
    "| 79 | Active Min |\n",
    "| 80 | Idle Mean |\n",
    "| 81 | Idle Std |\n",
    "| 82 | Idle Max |\n",
    "| 83 | Idle Min |\n",
    "| 84 | Label |\n",
    "\n"
   ]
  },
  {
   "cell_type": "markdown",
   "metadata": {},
   "source": [
    "## Splunk SDK setup and search query"
   ]
  },
  {
   "cell_type": "markdown",
   "metadata": {},
   "source": [
    "This example is based off of this howto: [How to run searches and jobs](http://dev.splunk.com/view/python-sdk/SP-CAAAEE5#oneshotjob)"
   ]
  },
  {
   "cell_type": "code",
   "execution_count": 1,
   "metadata": {
    "ExecuteTime": {
     "end_time": "2018-06-29T13:30:54.111396Z",
     "start_time": "2018-06-29T13:30:53.829800Z"
    }
   },
   "outputs": [],
   "source": [
    "import splunklib.client as client\n",
    "import splunklib.results as results\n",
    "\n",
    "# Import splunk host credentials\n",
    "%run -i splunk_credentials\n",
    "# This file contains the following lines:\n",
    "# HOST = \"10.x.x.x\"\n",
    "# PORT = \"8089\"\n",
    "# USERNAME = \"splunk_web_user\"\n",
    "# PASSWORD = \"splunk_web_password\"\n",
    "\n",
    "service = client.connect(\n",
    "    host=HOST,\n",
    "    port=PORT,\n",
    "    username=USERNAME,\n",
    "    password=PASSWORD\n",
    ")"
   ]
  },
  {
   "cell_type": "markdown",
   "metadata": {},
   "source": [
    "Run a one-shot search and display the results using the results reader\n",
    "\n",
    "Set the parameters for the search:\n",
    "- Search everything in a 24-hour time range starting Jujy 2nd, 12:00pm\n",
    "- Return unlimited events (oneshot searches usually only return the first 100 events)\n",
    "\n",
    "The search itself sets additional params:\n",
    "- Display the first 10 results"
   ]
  },
  {
   "cell_type": "code",
   "execution_count": 2,
   "metadata": {
    "ExecuteTime": {
     "end_time": "2018-06-29T13:30:54.133402Z",
     "start_time": "2018-06-29T13:30:54.112382Z"
    }
   },
   "outputs": [],
   "source": [
    "kwargs_oneshot = {\"earliest_time\": \"2017-07-02T12:00:00.000-00:00\",\n",
    "                  \"latest_time\":   \"2017-07-08T12:00:00.000-00:00\",\n",
    "                  \"count\": 0}\n",
    "searchquery_oneshot = \"search index=cicids17 | head 10\"\n",
    "\n",
    "\n",
    "oneshotsearch_results = service.jobs.oneshot(searchquery_oneshot, **kwargs_oneshot) "
   ]
  },
  {
   "cell_type": "markdown",
   "metadata": {},
   "source": [
    "## Search result exploration"
   ]
  },
  {
   "cell_type": "markdown",
   "metadata": {},
   "source": [
    "Now that we have the results, display them using ResultsReader"
   ]
  },
  {
   "cell_type": "code",
   "execution_count": 3,
   "metadata": {
    "ExecuteTime": {
     "end_time": "2018-06-29T13:30:54.491610Z",
     "start_time": "2018-06-29T13:30:54.134377Z"
    }
   },
   "outputs": [
    {
     "name": "stdout",
     "output_type": "stream",
     "text": [
      "---------------\n",
      "raw: 192.168.10.3-192.168.10.5-53-59851-17,192.168.10.5,59851,192.168.10.3,53,17,7/7/2017 12:59,153,2,2,68,100,34,34,34,0,50,50,50,0,1098039.216,26143.79085,51,84.00595217,148,2,2,2,0,2,2,3,3,0,3,3,0,0,0,0,40,40,13071.89542,13071.89542,34,50,40.4,8.76356092,76.8,0,0,0,0,0,0,0,0,1,50.5,34,50,40,0,0,0,0,0,0,2,68,2,100,-1,-1,1,20,0,0,0,0,0,0,0,0,BENIGN \n",
      "\n",
      "Name:\t192.168.10.3-192.168.10.5-53-59851-17  Date: 7/7/2017 12:59\n",
      "Flow:\t192.168.10.5:59851 -> 192.168.10.3:53\n",
      "Label:\tBENIGN\n",
      "---------------\n",
      "raw: 192.168.10.17-198.100.147.178-123-123-17,192.168.10.17,123,198.100.147.178,123,17,7/7/2017 12:59,16842,1,1,48,48,48,48,48,0,48,48,48,0,5700.035625,118.7507422,16842,0,16842,16842,0,0,0,0,0,0,0,0,0,0,0,0,0,0,20,20,59.3753711,59.3753711,48,48,48,0,0,0,0,0,0,0,0,0,0,1,72,48,48,20,0,0,0,0,0,0,1,48,1,48,-1,-1,0,20,0,0,0,0,0,0,0,0,BENIGN \n",
      "\n",
      "Name:\t192.168.10.17-198.100.147.178-123-123-17  Date: 7/7/2017 12:59\n",
      "Flow:\t192.168.10.17:123 -> 198.100.147.178:123\n",
      "Label:\tBENIGN\n",
      "---------------\n",
      "raw: 192.168.10.3-192.168.10.14-53-64015-17,192.168.10.14,64015,192.168.10.3,53,17,7/7/2017 12:59,222,2,2,90,354,45,45,45,0,177,177,177,0,2000000,18018.01802,74,86.71216754,171,4,47,47,0,47,47,4,4,0,4,4,0,0,0,0,64,64,9009.009009,9009.009009,45,177,97.8,72.29937759,5227.2,0,0,0,0,0,0,0,0,1,122.25,45,177,64,0,0,0,0,0,0,2,90,2,354,-1,-1,1,32,0,0,0,0,0,0,0,0,BENIGN \n",
      "\n",
      "Name:\t192.168.10.3-192.168.10.14-53-64015-17  Date: 7/7/2017 12:59\n",
      "Flow:\t192.168.10.14:64015 -> 192.168.10.3:53\n",
      "Label:\tBENIGN\n",
      "---------------\n",
      "raw: 192.168.10.3-192.168.10.14-53-49984-17,192.168.10.14,49984,192.168.10.3,53,17,7/7/2017 12:59,171,2,2,80,272,40,40,40,0,136,136,136,0,2058479.532,23391.81287,57,91.7986928,163,4,4,4,0,4,4,4,4,0,4,4,0,0,0,0,64,64,11695.90643,11695.90643,40,136,78.4,52.58136552,2764.8,0,0,0,0,0,0,0,0,1,98,40,136,64,0,0,0,0,0,0,2,80,2,272,-1,-1,1,32,0,0,0,0,0,0,0,0,BENIGN \n",
      "\n",
      "Name:\t192.168.10.3-192.168.10.14-53-49984-17  Date: 7/7/2017 12:59\n",
      "Flow:\t192.168.10.14:49984 -> 192.168.10.3:53\n",
      "Label:\tBENIGN\n",
      "---------------\n",
      "raw: 192.168.10.3-192.168.10.14-53-51018-17,192.168.10.14,51018,192.168.10.3,53,17,7/7/2017 12:59,61452,4,2,180,354,45,45,45,0,177,177,177,0,8689.709041,97.63718024,12290.4,17014.44852,34304,3,27144,9048,15666.39955,27138,3,4,4,0,4,4,0,0,0,0,80,40,65.09145349,32.54572675,45,177,82.71428571,64.40940481,4148.571429,0,0,0,0,0,0,0,0,0,96.5,45,177,80,0,0,0,0,0,0,4,180,2,354,-1,-1,3,20,0,0,0,0,0,0,0,0,BENIGN \n",
      "\n",
      "Name:\t192.168.10.3-192.168.10.14-53-51018-17  Date: 7/7/2017 12:59\n",
      "Flow:\t192.168.10.14:51018 -> 192.168.10.3:53\n",
      "Label:\tBENIGN\n",
      "---------------\n",
      "raw: 192.168.10.3-192.168.10.14-53-65493-17,192.168.10.14,65493,192.168.10.3,53,17,7/7/2017 12:59,30834,4,2,160,250,40,40,40,0,125,125,125,0,13297.00979,194.5903872,6166.8,11429.48392,26312,3,26318,8772.666667,15189.50823,26312,3,4,4,0,4,4,0,0,0,0,128,64,129.7269248,64.86346241,40,125,64.28571429,41.4757531,1720.238095,0,0,0,0,0,0,0,0,0,75,40,125,128,0,0,0,0,0,0,4,160,2,250,-1,-1,3,32,0,0,0,0,0,0,0,0,BENIGN \n",
      "\n",
      "Name:\t192.168.10.3-192.168.10.14-53-65493-17  Date: 7/7/2017 12:59\n",
      "Flow:\t192.168.10.14:65493 -> 192.168.10.3:53\n",
      "Label:\tBENIGN\n",
      "---------------\n",
      "raw: 192.168.10.1-192.168.10.3-53-61575-17,192.168.10.3,61575,192.168.10.1,53,17,7/7/2017 12:59,30483,1,1,51,136,51,51,51,0,136,136,136,0,6134.566808,65.61034019,30483,0,30483,30483,0,0,0,0,0,0,0,0,0,0,0,0,0,0,32,32,32.80517009,32.80517009,51,136,79.33333333,49.07477288,2408.333333,0,0,0,0,0,0,0,0,1,119,51,136,32,0,0,0,0,0,0,1,51,1,136,-1,-1,0,32,0,0,0,0,0,0,0,0,BENIGN \n",
      "\n",
      "Name:\t192.168.10.1-192.168.10.3-53-61575-17  Date: 7/7/2017 12:59\n",
      "Flow:\t192.168.10.3:61575 -> 192.168.10.1:53\n",
      "Label:\tBENIGN\n",
      "---------------\n",
      "raw: 192.168.10.1-192.168.10.3-53-62272-17,192.168.10.3,62272,192.168.10.1,53,17,7/7/2017 12:59,60972,1,1,56,188,56,56,56,0,188,188,188,0,4001.836909,32.80194187,60972,0,60972,60972,0,0,0,0,0,0,0,0,0,0,0,0,0,0,20,20,16.40097094,16.40097094,56,188,100,76.21023553,5808,0,0,0,0,0,0,0,0,1,150,56,188,20,0,0,0,0,0,0,1,56,1,188,-1,-1,0,20,0,0,0,0,0,0,0,0,BENIGN \n",
      "\n",
      "Name:\t192.168.10.1-192.168.10.3-53-62272-17  Date: 7/7/2017 12:59\n",
      "Flow:\t192.168.10.3:62272 -> 192.168.10.1:53\n",
      "Label:\tBENIGN\n",
      "---------------\n",
      "raw: 192.168.10.14-72.21.91.29-53233-80-6,192.168.10.14,53233,72.21.91.29,80,6,7/7/2017 12:59,116036371,16,14,513,802,429,0,32.0625,105.8605805,796,0,57.28571429,212.6226085,11.33265362,0.258539626,4001254.172,4884747.444,1.00E+07,100,1.16E+08,7735758.067,4138370.492,1.00E+07,131,1.10E+08,8488911.538,3762023.646,1.00E+07,802,0,0,0,0,332,424,0.137887801,0.120651826,0,796,42.41935484,159.417225,25413.85161,0,0,0,1,0,0,0,0,0,43.83333333,32.0625,57.28571429,332,0,0,0,0,0,0,16,513,14,802,8192,288,15,20,30642.81818,23173.29405,100512,23505,1.00E+07,16813.9088,1.00E+07,9952541,BENIGN \n",
      "\n",
      "Name:\t192.168.10.14-72.21.91.29-53233-80-6  Date: 7/7/2017 12:59\n",
      "Flow:\t192.168.10.14:53233 -> 72.21.91.29:80\n",
      "Label:\tBENIGN\n",
      "---------------\n",
      "raw: 192.168.10.14-52.33.209.128-53232-443-6,192.168.10.14,53232,52.33.209.128,443,6,7/7/2017 12:59,60921076,15,12,986,3440,590,0,65.73333333,156.1077772,3075,2,286.6666667,880.6211995,72.65137602,0.443196374,2343118.308,4276918.526,1.00E+07,31,6.09E+07,4351505.429,5139276.716,1.01E+07,174,6.08E+07,5530633.455,5239306.531,1.01E+07,1867,0,0,0,0,312,244,0.246220208,0.196976166,0,3075,158.0714286,584.4569451,341589.9206,0,0,0,1,0,0,0,0,0,163.9259259,65.73333333,286.6666667,312,0,0,0,0,0,0,15,986,12,3440,8192,31270,14,20,129199,110943.4378,355659,83583,9999805,15858.3401,1.00E+07,9968185,BENIGN \n",
      "\n",
      "Name:\t192.168.10.14-52.33.209.128-53232-443-6  Date: 7/7/2017 12:59\n",
      "Flow:\t192.168.10.14:53232 -> 52.33.209.128:443\n",
      "Label:\tBENIGN\n"
     ]
    }
   ],
   "source": [
    "reader = results.ResultsReader(oneshotsearch_results)\n",
    "for item in reader:\n",
    "    raw = item['_raw']\n",
    "    print(\"---------------\\nraw:\",raw,\"\\n\")\n",
    "    raw = raw.split(',')\n",
    "    fid,src_ip,src_port,dest_ip,dest_port,timestamp,label = [raw[0],raw[1],raw[2],raw[3],raw[4],raw[6],raw[84]]\n",
    "    print('Name:\\t{}  Date: {}\\nFlow:\\t{}:{} -> {}:{}\\nLabel:\\t{}'.format(fid, timestamp, src_ip, src_port, dest_ip, dest_port, label))\n",
    "\n",
    "\n",
    "# If the results come in as anything else than XML (default), the ResultsReader cannot be used.\n",
    "# Instead, just stream the raw source stuff\n",
    "# print(oneshotsearch_results.read())"
   ]
  },
  {
   "cell_type": "code",
   "execution_count": null,
   "metadata": {},
   "outputs": [],
   "source": []
  }
 ],
 "metadata": {
  "kernelspec": {
   "display_name": "Python 3",
   "language": "python",
   "name": "python3"
  },
  "language_info": {
   "codemirror_mode": {
    "name": "ipython",
    "version": 3
   },
   "file_extension": ".py",
   "mimetype": "text/x-python",
   "name": "python",
   "nbconvert_exporter": "python",
   "pygments_lexer": "ipython3",
   "version": "3.6.5"
  }
 },
 "nbformat": 4,
 "nbformat_minor": 2
}
